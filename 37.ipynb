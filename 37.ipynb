{
 "cells": [
  {
   "cell_type": "code",
   "execution_count": null,
   "id": "b0b40954",
   "metadata": {},
   "outputs": [],
   "source": [
    "45.\tWrite a program to print the following pattern\n",
    "1\n",
    "2 3\n",
    "4 5 6\n",
    "7 8 9 10"
   ]
  },
  {
   "cell_type": "code",
   "execution_count": 2,
   "id": "1c451736",
   "metadata": {},
   "outputs": [
    {
     "name": "stdout",
     "output_type": "stream",
     "text": [
      "1 \r\n",
      "2 3 \r\n",
      "4 5 6 \r\n",
      "7 8 9 10 \r\n"
     ]
    }
   ],
   "source": [
    "def countnum(n):\n",
    "    \n",
    "    num = 1 \n",
    "    for i in range(0, n ):\n",
    "        \n",
    "        for j in range(0, i +1 ):\n",
    "            \n",
    "            print(num, end =\" \")\n",
    "            \n",
    "            num = num + 1\n",
    "            \n",
    "        print(\"\\r\")\n",
    "\n",
    "n = 4\n",
    "countnum(n)"
   ]
  }
 ],
 "metadata": {
  "kernelspec": {
   "display_name": "Python 3 (ipykernel)",
   "language": "python",
   "name": "python3"
  },
  "language_info": {
   "codemirror_mode": {
    "name": "ipython",
    "version": 3
   },
   "file_extension": ".py",
   "mimetype": "text/x-python",
   "name": "python",
   "nbconvert_exporter": "python",
   "pygments_lexer": "ipython3",
   "version": "3.9.7"
  }
 },
 "nbformat": 4,
 "nbformat_minor": 5
}
