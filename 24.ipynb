{
 "cells": [
  {
   "cell_type": "code",
   "execution_count": null,
   "id": "a2ca1eed",
   "metadata": {},
   "outputs": [],
   "source": [
    "31.\tWrite a program to print all the unique combinations of 1,2,3 and 4"
   ]
  },
  {
   "cell_type": "code",
   "execution_count": 4,
   "id": "bacd1130",
   "metadata": {},
   "outputs": [
    {
     "name": "stdout",
     "output_type": "stream",
     "text": [
      "1 2 3\n",
      "1 3 2\n",
      "2 1 3\n",
      "2 3 1\n",
      "3 1 2\n",
      "3 2 1\n"
     ]
    }
   ],
   "source": [
    "def comb(L):\n",
    "    for i in range(3):\n",
    "        for j in range(3):\n",
    "            for k in range(3):\n",
    "                if (i!=j and j!=k and i!=k):\n",
    "                    print(L[i],L[j],L[k])\n",
    "comb([1,2,3])"
   ]
  },
  {
   "cell_type": "code",
   "execution_count": 8,
   "id": "5b4bef26",
   "metadata": {},
   "outputs": [
    {
     "name": "stdout",
     "output_type": "stream",
     "text": [
      "[0] [1] [2]\n",
      "[0] [1] [3]\n",
      "[0] [2] [1]\n",
      "[0] [2] [3]\n",
      "[0] [3] [1]\n",
      "[0] [3] [2]\n",
      "[1] [0] [2]\n",
      "[1] [0] [3]\n",
      "[1] [2] [0]\n",
      "[1] [2] [3]\n",
      "[1] [3] [0]\n",
      "[1] [3] [2]\n",
      "[2] [0] [1]\n",
      "[2] [0] [3]\n",
      "[2] [1] [0]\n",
      "[2] [1] [3]\n",
      "[2] [3] [0]\n",
      "[2] [3] [1]\n",
      "[3] [0] [1]\n",
      "[3] [0] [2]\n",
      "[3] [1] [0]\n",
      "[3] [1] [2]\n",
      "[3] [2] [0]\n",
      "[3] [2] [1]\n"
     ]
    }
   ],
   "source": [
    "for i in range(4):\n",
    "    for j in range(4):\n",
    "        for k in range(4):\n",
    "            if (i!=j and j!=k and i!=k):\n",
    "                print([i],[j],[k])\n",
    "            "
   ]
  }
 ],
 "metadata": {
  "kernelspec": {
   "display_name": "Python 3 (ipykernel)",
   "language": "python",
   "name": "python3"
  },
  "language_info": {
   "codemirror_mode": {
    "name": "ipython",
    "version": 3
   },
   "file_extension": ".py",
   "mimetype": "text/x-python",
   "name": "python",
   "nbconvert_exporter": "python",
   "pygments_lexer": "ipython3",
   "version": "3.9.7"
  }
 },
 "nbformat": 4,
 "nbformat_minor": 5
}
