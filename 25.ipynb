{
 "cells": [
  {
   "cell_type": "code",
   "execution_count": null,
   "id": "17971e75",
   "metadata": {},
   "outputs": [],
   "source": [
    "33.\tUser will provide 2 numbers you have to find the by LCM of those 2 numbers"
   ]
  },
  {
   "cell_type": "code",
   "execution_count": null,
   "id": "f0c36528",
   "metadata": {},
   "outputs": [],
   "source": []
  },
  {
   "cell_type": "code",
   "execution_count": 6,
   "id": "9c16127c",
   "metadata": {},
   "outputs": [
    {
     "name": "stdout",
     "output_type": "stream",
     "text": [
      "LCM of 10 and 20 is 20\n"
     ]
    }
   ],
   "source": [
    "a = 10\n",
    "b = 20\n",
    "def gcd(a,b):\n",
    "    if a ==0:\n",
    "        return b\n",
    "    return gcd(b% a, a)\n",
    "def lcm(a,b):\n",
    "    return(a//gcd(a,b))*b\n",
    "print('LCM of', a, 'and', b, 'is', lcm(a, b))"
   ]
  }
 ],
 "metadata": {
  "kernelspec": {
   "display_name": "Python 3 (ipykernel)",
   "language": "python",
   "name": "python3"
  },
  "language_info": {
   "codemirror_mode": {
    "name": "ipython",
    "version": 3
   },
   "file_extension": ".py",
   "mimetype": "text/x-python",
   "name": "python",
   "nbconvert_exporter": "python",
   "pygments_lexer": "ipython3",
   "version": "3.9.7"
  }
 },
 "nbformat": 4,
 "nbformat_minor": 5
}
