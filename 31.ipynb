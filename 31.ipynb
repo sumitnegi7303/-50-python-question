{
 "cells": [
  {
   "cell_type": "code",
   "execution_count": null,
   "id": "8ed6d969",
   "metadata": {},
   "outputs": [],
   "source": [
    "39.\tPrint all factors of a given number provided by the user."
   ]
  },
  {
   "cell_type": "code",
   "execution_count": 2,
   "id": "7cff8471",
   "metadata": {},
   "outputs": [
    {
     "name": "stdout",
     "output_type": "stream",
     "text": [
      "enter the number :12\n",
      "1\n",
      "2\n",
      "3\n",
      "4\n",
      "6\n",
      "12\n"
     ]
    }
   ],
   "source": [
    "n = int(input('enter the number :'))\n",
    "i = 1\n",
    "while i<=n:\n",
    "    if n%i==0:\n",
    "        print(i)\n",
    "    i = i+1"
   ]
  }
 ],
 "metadata": {
  "kernelspec": {
   "display_name": "Python 3 (ipykernel)",
   "language": "python",
   "name": "python3"
  },
  "language_info": {
   "codemirror_mode": {
    "name": "ipython",
    "version": 3
   },
   "file_extension": ".py",
   "mimetype": "text/x-python",
   "name": "python",
   "nbconvert_exporter": "python",
   "pygments_lexer": "ipython3",
   "version": "3.9.7"
  }
 },
 "nbformat": 4,
 "nbformat_minor": 5
}
