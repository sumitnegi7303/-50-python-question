{
 "cells": [
  {
   "cell_type": "code",
   "execution_count": null,
   "id": "384f9c36",
   "metadata": {},
   "outputs": [],
   "source": [
    "35.\tPrint the first 20 numbers of a Fibonacci series"
   ]
  },
  {
   "cell_type": "code",
   "execution_count": 1,
   "id": "48663d52",
   "metadata": {},
   "outputs": [
    {
     "name": "stdout",
     "output_type": "stream",
     "text": [
      "0 1 1 2 3 5 8 13 21 34 55 89 144 233 377 610 987 1597 2584 4181 "
     ]
    }
   ],
   "source": [
    "def fibonacci_numbers(num):\n",
    "    if num == 0 :\n",
    "        return 0\n",
    "    elif num ==1 :\n",
    "        return 1\n",
    "    else:\n",
    "        return fibonacci_numbers(num-2)+fibonacci_numbers(num-1)\n",
    "\n",
    "n = 20\n",
    "for i in range(0,n):\n",
    "    print(fibonacci_numbers(i),end=\" \")"
   ]
  },
  {
   "cell_type": "code",
   "execution_count": 3,
   "id": "4d77600d",
   "metadata": {},
   "outputs": [
    {
     "name": "stdout",
     "output_type": "stream",
     "text": [
      "0 1 1 2 3 5 8 13 21 34 55 89 144 233 377 610 987 1597 2584 4181 None\n"
     ]
    }
   ],
   "source": [
    "def Fibonacci_numbers(n):\n",
    "    f1=0\n",
    "    f2=1\n",
    "    if (n<1):\n",
    "        return\n",
    "    print(f1,end=\" \")\n",
    "    for x in range(1,n):\n",
    "        print(f2,end=' ')\n",
    "        next = f1 +f2\n",
    "        f1 = f2\n",
    "        f2 =next\n",
    "\n",
    "print(Fibonacci_numbers(20))"
   ]
  },
  {
   "cell_type": "code",
   "execution_count": 8,
   "id": "fd77bdba",
   "metadata": {},
   "outputs": [
    {
     "name": "stdout",
     "output_type": "stream",
     "text": [
      "0 1 1 2 3 5 8 13 21 34 55 89 144 233 377 610 987 1597 2584 4181 "
     ]
    }
   ],
   "source": [
    "def printFibonacciNumbers(n):\n",
    "  \n",
    "    f1 = 0\n",
    "    f2 = 1\n",
    "    if (n < 1):\n",
    "        return\n",
    "    print(f1, end=\" \")\n",
    "    for x in range(1, n):\n",
    "        print(f2, end=\" \")\n",
    "        next = f1 + f2\n",
    "        f1 = f2\n",
    "        f2 = next\n",
    "  \n",
    "  \n",
    "printFibonacciNumbers(20)"
   ]
  },
  {
   "cell_type": "code",
   "execution_count": 11,
   "id": "3eb4dfbd",
   "metadata": {},
   "outputs": [
    {
     "name": "stdout",
     "output_type": "stream",
     "text": [
      "enter the numbers :20\n",
      "Fibonacci sequence\n",
      "0\n",
      "1\n",
      "1\n",
      "2\n",
      "3\n",
      "5\n",
      "8\n",
      "13\n",
      "21\n",
      "34\n",
      "55\n",
      "89\n",
      "144\n",
      "233\n",
      "377\n",
      "610\n",
      "987\n",
      "1597\n",
      "2584\n",
      "4181\n"
     ]
    }
   ],
   "source": [
    "n = int(input('enter the numbers :'))\n",
    "n1,n2 = 0,1\n",
    "count = 0\n",
    "\n",
    "if n <=0 :\n",
    "    print('enter a positive number')\n",
    "elif n ==1:\n",
    "    print('fibonacci sequence')\n",
    "    print(n1)\n",
    "else:\n",
    "    print('Fibonacci sequence')\n",
    "    while count < n:\n",
    "        print(n1)\n",
    "        nth = n1 + n2\n",
    "        n1 = n2\n",
    "        n2 =nth\n",
    "        count +=1\n",
    "        "
   ]
  }
 ],
 "metadata": {
  "kernelspec": {
   "display_name": "Python 3 (ipykernel)",
   "language": "python",
   "name": "python3"
  },
  "language_info": {
   "codemirror_mode": {
    "name": "ipython",
    "version": 3
   },
   "file_extension": ".py",
   "mimetype": "text/x-python",
   "name": "python",
   "nbconvert_exporter": "python",
   "pygments_lexer": "ipython3",
   "version": "3.9.7"
  }
 },
 "nbformat": 4,
 "nbformat_minor": 5
}
