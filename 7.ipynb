{
 "cells": [
  {
   "cell_type": "code",
   "execution_count": null,
   "id": "b9a58c56",
   "metadata": {},
   "outputs": [],
   "source": [
    "Q7.Write a program that will tell whether the given year is a leap year or not."
   ]
  },
  {
   "cell_type": "code",
   "execution_count": 8,
   "id": "c165fe10",
   "metadata": {},
   "outputs": [
    {
     "name": "stdout",
     "output_type": "stream",
     "text": [
      "enter the year :2024\n",
      "2024  is leap year :  2024\n"
     ]
    }
   ],
   "source": [
    "n = int(input('enter the year :'))\n",
    "if n%4==0:\n",
    "    print(n,' is leap year : ',n)\n",
    "else :\n",
    "    print('its not a leap year : ',n)"
   ]
  },
  {
   "cell_type": "code",
   "execution_count": 21,
   "id": "4841e1b2",
   "metadata": {},
   "outputs": [
    {
     "name": "stdout",
     "output_type": "stream",
     "text": [
      "enter the year : 2000\n",
      "its a leap year 2000\n"
     ]
    }
   ],
   "source": [
    "year = int(input('enter the year : '))\n",
    "if(year%4)==0:\n",
    "    if(year%100)==0:\n",
    "        if(year%400)==0:\n",
    "            print('its a leap year',year)\n",
    "        else:\n",
    "            print('not a leap year ',year)"
   ]
  },
  {
   "cell_type": "code",
   "execution_count": 24,
   "id": "298a12ff",
   "metadata": {},
   "outputs": [
    {
     "name": "stdout",
     "output_type": "stream",
     "text": [
      "leap_year\n"
     ]
    }
   ],
   "source": [
    "def checkyear():\n",
    "    if year%4==0:\n",
    "        if year%100==0:\n",
    "            if year%400==0:\n",
    "                return True\n",
    "            else:\n",
    "                return False\n",
    "year = 2000\n",
    "if checkyear():\n",
    "    print('leap_year')\n",
    "\n",
    "else:\n",
    "    print('not leap_year')"
   ]
  },
  {
   "cell_type": "code",
   "execution_count": 4,
   "id": "ff46433b",
   "metadata": {},
   "outputs": [
    {
     "name": "stdout",
     "output_type": "stream",
     "text": [
      "not leap_year\n"
     ]
    }
   ],
   "source": [
    "def checkyear():\n",
    "    if (year%4)==0:\n",
    "        if(year%100)==0:\n",
    "            if(year%400)==0:\n",
    "                return true\n",
    "            else:\n",
    "                return False\n",
    "year = 2024\n",
    "if (checkyear()):\n",
    "    print('leap_year')\n",
    "    \n",
    "else:\n",
    "    print('not leap_year')"
   ]
  }
 ],
 "metadata": {
  "kernelspec": {
   "display_name": "Python 3 (ipykernel)",
   "language": "python",
   "name": "python3"
  },
  "language_info": {
   "codemirror_mode": {
    "name": "ipython",
    "version": 3
   },
   "file_extension": ".py",
   "mimetype": "text/x-python",
   "name": "python",
   "nbconvert_exporter": "python",
   "pygments_lexer": "ipython3",
   "version": "3.9.7"
  }
 },
 "nbformat": 4,
 "nbformat_minor": 5
}
