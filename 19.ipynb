{
 "cells": [
  {
   "cell_type": "code",
   "execution_count": null,
   "id": "69ec3783",
   "metadata": {},
   "outputs": [],
   "source": [
    "25.Write a program that can multiply 2 numbers provided by the user without using the * operator"
   ]
  },
  {
   "cell_type": "code",
   "execution_count": 1,
   "id": "8492e9ac",
   "metadata": {},
   "outputs": [
    {
     "name": "stdout",
     "output_type": "stream",
     "text": [
      "the multiplication of given two numbers{ 3 * 6 } =  18\n"
     ]
    }
   ],
   "source": [
    "frst_num = 3\n",
    "secon_num = 6\n",
    "last_num = 0\n",
    "    \n",
    "for i in range(1,frst_num+1):\n",
    "    last_num = last_num+secon_num\n",
    "    \n",
    "print(\"the multiplication of given two numbers{\",frst_num,\"*\",secon_num,\"} = \",last_num)"
   ]
  },
  {
   "cell_type": "code",
   "execution_count": 5,
   "id": "80ec4b07",
   "metadata": {},
   "outputs": [
    {
     "name": "stdout",
     "output_type": "stream",
     "text": [
      "{ 3 * 6 }= 18\n"
     ]
    }
   ],
   "source": [
    "A = 3\n",
    "B = 6\n",
    "R = 0\n",
    "\n",
    "for i in range(1,A+1):\n",
    "    R = R+B\n",
    "print(\"{\",A,\"*\",B,\"}=\",R)"
   ]
  },
  {
   "cell_type": "code",
   "execution_count": 14,
   "id": "6d3bc79a",
   "metadata": {},
   "outputs": [
    {
     "name": "stdout",
     "output_type": "stream",
     "text": [
      "{ 3 * b'}=' 6\n",
      "{ 3 * b'}=' 12\n",
      "{ 3 * b'}=' 18\n"
     ]
    }
   ],
   "source": [
    "A = 3\n",
    "B = 6\n",
    "C = 0\n",
    "for i in range(1,A+1):\n",
    "    C = C+B\n",
    "    print(\"{\",A,\"*\",B\"}=\",C)"
   ]
  },
  {
   "cell_type": "code",
   "execution_count": null,
   "id": "8c9ed23c",
   "metadata": {},
   "outputs": [],
   "source": []
  }
 ],
 "metadata": {
  "kernelspec": {
   "display_name": "Python 3 (ipykernel)",
   "language": "python",
   "name": "python3"
  },
  "language_info": {
   "codemirror_mode": {
    "name": "ipython",
    "version": 3
   },
   "file_extension": ".py",
   "mimetype": "text/x-python",
   "name": "python",
   "nbconvert_exporter": "python",
   "pygments_lexer": "ipython3",
   "version": "3.9.7"
  }
 },
 "nbformat": 4,
 "nbformat_minor": 5
}
