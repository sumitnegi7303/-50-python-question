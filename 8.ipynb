{
 "cells": [
  {
   "cell_type": "code",
   "execution_count": null,
   "id": "65f19751",
   "metadata": {},
   "outputs": [],
   "source": [
    "Q8.Write a program to find the euclidean distance between two coordinates."
   ]
  },
  {
   "cell_type": "code",
   "execution_count": null,
   "id": "54f8c1fc",
   "metadata": {},
   "outputs": [],
   "source": [
    "x = (1,2)\n",
    "y = (3,4)\n",
    "\n",
    "import math\n",
    "math = (x,y)\n",
    "print(x,y)"
   ]
  },
  {
   "cell_type": "code",
   "execution_count": null,
   "id": "5f7f46f0",
   "metadata": {},
   "outputs": [],
   "source": []
  }
 ],
 "metadata": {
  "kernelspec": {
   "display_name": "Python 3 (ipykernel)",
   "language": "python",
   "name": "python3"
  },
  "language_info": {
   "codemirror_mode": {
    "name": "ipython",
    "version": 3
   },
   "file_extension": ".py",
   "mimetype": "text/x-python",
   "name": "python",
   "nbconvert_exporter": "python",
   "pygments_lexer": "ipython3",
   "version": "3.9.7"
  }
 },
 "nbformat": 4,
 "nbformat_minor": 5
}
