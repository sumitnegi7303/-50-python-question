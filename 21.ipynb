{
 "cells": [
  {
   "cell_type": "code",
   "execution_count": null,
   "id": "9ef1e8a9",
   "metadata": {},
   "outputs": [],
   "source": [
    "27.\tWrite a program to print the first 25 odd numbers"
   ]
  },
  {
   "cell_type": "code",
   "execution_count": 20,
   "id": "dbc8d5c0",
   "metadata": {},
   "outputs": [
    {
     "name": "stdout",
     "output_type": "stream",
     "text": [
      "1 3 5 7 9 11 13 15 17 19 21 23 25 27 29 31 33 35 37 39 41 43 45 47 49 "
     ]
    }
   ],
   "source": [
    "a , b =0,50\n",
    "\n",
    "for n in range(a,b +1):\n",
    "    \n",
    "    if n % 2 !=0:\n",
    "        print(n , end = \" \")"
   ]
  },
  {
   "cell_type": "code",
   "execution_count": null,
   "id": "c2ae4dd5",
   "metadata": {},
   "outputs": [],
   "source": []
  }
 ],
 "metadata": {
  "kernelspec": {
   "display_name": "Python 3 (ipykernel)",
   "language": "python",
   "name": "python3"
  },
  "language_info": {
   "codemirror_mode": {
    "name": "ipython",
    "version": 3
   },
   "file_extension": ".py",
   "mimetype": "text/x-python",
   "name": "python",
   "nbconvert_exporter": "python",
   "pygments_lexer": "ipython3",
   "version": "3.9.7"
  }
 },
 "nbformat": 4,
 "nbformat_minor": 5
}
