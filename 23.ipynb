{
 "cells": [
  {
   "cell_type": "code",
   "execution_count": null,
   "id": "5c166cba",
   "metadata": {},
   "outputs": [],
   "source": [
    "29.\tPrint all the armstrong numbers in the range of 100 to 1000"
   ]
  },
  {
   "cell_type": "code",
   "execution_count": null,
   "id": "8346efbe",
   "metadata": {},
   "outputs": [],
   "source": []
  },
  {
   "cell_type": "code",
   "execution_count": 12,
   "id": "10f19e5e",
   "metadata": {},
   "outputs": [
    {
     "name": "stdout",
     "output_type": "stream",
     "text": [
      "153\n",
      "370\n",
      "371\n",
      "407\n"
     ]
    }
   ],
   "source": [
    "lower = 100\n",
    "upper = 1000\n",
    "\n",
    "for i in range(lower, upper):\n",
    "    order = len(str(i))\n",
    "    sum = 0\n",
    "    temp=i\n",
    "    while temp>0:\n",
    "        digit = temp%10\n",
    "        sum+=digit **order\n",
    "        temp//=10\n",
    "    if i ==sum:\n",
    "        print(i)"
   ]
  },
  {
   "cell_type": "code",
   "execution_count": 7,
   "id": "42417c74",
   "metadata": {},
   "outputs": [
    {
     "name": "stdout",
     "output_type": "stream",
     "text": [
      "153\n",
      "370\n",
      "371\n",
      "407\n",
      "1634\n"
     ]
    }
   ],
   "source": [
    "lower = 100\n",
    "upper = 2000\n",
    "\n",
    "for num in range(lower, upper + 1):\n",
    "    order = len(str(num))\n",
    "    \n",
    "    sum = 0\n",
    "    \n",
    "    temp = num\n",
    "    \n",
    "    while temp > 0:\n",
    "        digit = temp % 10\n",
    "        sum += digit ** order\n",
    "        temp //= 10\n",
    "\n",
    "    if num == sum:\n",
    "        print(num)"
   ]
  },
  {
   "cell_type": "code",
   "execution_count": 1,
   "id": "f2e0ca4b",
   "metadata": {},
   "outputs": [
    {
     "name": "stdout",
     "output_type": "stream",
     "text": [
      "enter the number :4\n",
      "4 is not armstrong number\n"
     ]
    }
   ],
   "source": [
    "n = int(input('enter the number :'))\n",
    "sum = 0\n",
    "temp = n\n",
    "while temp > 0:\n",
    "    digit = temp % 10\n",
    "    sum +=digit **3\n",
    "    temp //=10\n",
    "if n ==sum:\n",
    "    print(n,\"is an armstrong number\")\n",
    "else:\n",
    "    print(n,\"is not armstrong number\")"
   ]
  }
 ],
 "metadata": {
  "kernelspec": {
   "display_name": "Python 3 (ipykernel)",
   "language": "python",
   "name": "python3"
  },
  "language_info": {
   "codemirror_mode": {
    "name": "ipython",
    "version": 3
   },
   "file_extension": ".py",
   "mimetype": "text/x-python",
   "name": "python",
   "nbconvert_exporter": "python",
   "pygments_lexer": "ipython3",
   "version": "3.9.7"
  }
 },
 "nbformat": 4,
 "nbformat_minor": 5
}
