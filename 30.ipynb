{
 "cells": [
  {
   "cell_type": "code",
   "execution_count": null,
   "id": "5b72e906",
   "metadata": {},
   "outputs": [],
   "source": [
    "38.\tTake a number from the user and find the number of digits in it. "
   ]
  },
  {
   "cell_type": "code",
   "execution_count": 27,
   "id": "28288419",
   "metadata": {},
   "outputs": [
    {
     "name": "stdout",
     "output_type": "stream",
     "text": [
      "8\n"
     ]
    }
   ],
   "source": [
    "list = \"12345678\"\n",
    "print(len(list))"
   ]
  },
  {
   "cell_type": "code",
   "execution_count": null,
   "id": "f0a36689",
   "metadata": {},
   "outputs": [],
   "source": []
  },
  {
   "cell_type": "code",
   "execution_count": 35,
   "id": "908a0eb1",
   "metadata": {},
   "outputs": [
    {
     "name": "stdout",
     "output_type": "stream",
     "text": [
      "enter the numbers :12345678\n",
      "number of Digits 8\n"
     ]
    }
   ],
   "source": [
    "n = int(input('enter the numbers :'))\n",
    "count_of_digits = 0\n",
    "while n > 0:\n",
    "    n = int(n/10)\n",
    "    count_of_digits +=1\n",
    "print(\"number of Digits\",count_of_digits)"
   ]
  }
 ],
 "metadata": {
  "kernelspec": {
   "display_name": "Python 3 (ipykernel)",
   "language": "python",
   "name": "python3"
  },
  "language_info": {
   "codemirror_mode": {
    "name": "ipython",
    "version": 3
   },
   "file_extension": ".py",
   "mimetype": "text/x-python",
   "name": "python",
   "nbconvert_exporter": "python",
   "pygments_lexer": "ipython3",
   "version": "3.9.7"
  }
 },
 "nbformat": 4,
 "nbformat_minor": 5
}
