{
 "cells": [
  {
   "cell_type": "markdown",
   "id": "69e62e42",
   "metadata": {},
   "source": [
    "Q3.User will input (2numbers).Write a program to swap the numbers"
   ]
  },
  {
   "cell_type": "code",
   "execution_count": 2,
   "id": "0732e163",
   "metadata": {},
   "outputs": [
    {
     "name": "stdout",
     "output_type": "stream",
     "text": [
      "the value of x after swaping : 10\n",
      "the value of y after swaping : 5\n"
     ]
    }
   ],
   "source": [
    "x = 5\n",
    "y = 10\n",
    "temp = x\n",
    "x = y \n",
    "y = temp \n",
    "\n",
    "print('the value of x after swaping : {}'.format(x))\n",
    "print('the value of y after swaping : {}'.format(y))"
   ]
  },
  {
   "cell_type": "code",
   "execution_count": 8,
   "id": "75ec05ab",
   "metadata": {},
   "outputs": [
    {
     "name": "stdout",
     "output_type": "stream",
     "text": [
      "the value of x swaping 10:\n",
      "the value of y swaping 5:\n"
     ]
    }
   ],
   "source": [
    "x = 5\n",
    "y = 10\n",
    "\n",
    "z = x\n",
    "\n",
    "x = y\n",
    "y = z\n",
    "\n",
    "print('the value of x swaping {}:'.format(x))\n",
    "print('the value of y swaping {}:'.format(y))"
   ]
  },
  {
   "cell_type": "code",
   "execution_count": null,
   "id": "0eda9087",
   "metadata": {},
   "outputs": [],
   "source": []
  }
 ],
 "metadata": {
  "kernelspec": {
   "display_name": "Python 3 (ipykernel)",
   "language": "python",
   "name": "python3"
  },
  "language_info": {
   "codemirror_mode": {
    "name": "ipython",
    "version": 3
   },
   "file_extension": ".py",
   "mimetype": "text/x-python",
   "name": "python",
   "nbconvert_exporter": "python",
   "pygments_lexer": "ipython3",
   "version": "3.9.7"
  }
 },
 "nbformat": 4,
 "nbformat_minor": 5
}
