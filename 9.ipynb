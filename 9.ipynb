{
 "cells": [
  {
   "cell_type": "code",
   "execution_count": null,
   "id": "438f1e92",
   "metadata": {},
   "outputs": [],
   "source": [
    "Q9.Write a program that take a user input of three angles and will find out whether it can form a triangle or not."
   ]
  },
  {
   "cell_type": "code",
   "execution_count": 5,
   "id": "a6e9afb1",
   "metadata": {},
   "outputs": [
    {
     "name": "stdout",
     "output_type": "stream",
     "text": [
      "enter the angles :3\n",
      "enter the angles :3\n",
      "enter the angles :3\n",
      "the angles is not the triangle \n"
     ]
    }
   ],
   "source": [
    "a = int(input('enter the angles :')) \n",
    "b = int(input('enter the angles :'))\n",
    "c = int(input('enter the angles :'))\n",
    "\n",
    "z = a+b+c\n",
    "\n",
    "if z == 180:\n",
    "    print('the angles is triangle ')\n",
    "    \n",
    "else :\n",
    "    print('the angles is not the triangle ')"
   ]
  },
  {
   "cell_type": "code",
   "execution_count": null,
   "id": "b936d3e4",
   "metadata": {},
   "outputs": [],
   "source": [
    "\n"
   ]
  }
 ],
 "metadata": {
  "kernelspec": {
   "display_name": "Python 3 (ipykernel)",
   "language": "python",
   "name": "python3"
  },
  "language_info": {
   "codemirror_mode": {
    "name": "ipython",
    "version": 3
   },
   "file_extension": ".py",
   "mimetype": "text/x-python",
   "name": "python",
   "nbconvert_exporter": "python",
   "pygments_lexer": "ipython3",
   "version": "3.9.7"
  }
 },
 "nbformat": 4,
 "nbformat_minor": 5
}
