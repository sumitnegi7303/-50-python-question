{
 "cells": [
  {
   "cell_type": "code",
   "execution_count": null,
   "id": "e0d573e6",
   "metadata": {},
   "outputs": [],
   "source": [
    "Q13.Write  a program that will tell whether the given number is divisible by 3 & 6."
   ]
  },
  {
   "cell_type": "code",
   "execution_count": 1,
   "id": "7f9e161b",
   "metadata": {},
   "outputs": [
    {
     "name": "stdout",
     "output_type": "stream",
     "text": [
      "enter the number :5\n",
      "0\n"
     ]
    }
   ],
   "source": [
    "n = int(input('enter the number :'))\n",
    "for i in range(n):\n",
    "    if i%3==0 and i%6==0:\n",
    "        print(i)"
   ]
  }
 ],
 "metadata": {
  "kernelspec": {
   "display_name": "Python 3 (ipykernel)",
   "language": "python",
   "name": "python3"
  },
  "language_info": {
   "codemirror_mode": {
    "name": "ipython",
    "version": 3
   },
   "file_extension": ".py",
   "mimetype": "text/x-python",
   "name": "python",
   "nbconvert_exporter": "python",
   "pygments_lexer": "ipython3",
   "version": "3.9.7"
  }
 },
 "nbformat": 4,
 "nbformat_minor": 5
}
