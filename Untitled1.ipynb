{
 "cells": [
  {
   "cell_type": "markdown",
   "id": "7e840d3e",
   "metadata": {},
   "source": [
    "Q.1 User will input (3ages).Find the oldest one."
   ]
  },
  {
   "cell_type": "code",
   "execution_count": 3,
   "id": "cab21476",
   "metadata": {},
   "outputs": [
    {
     "name": "stdout",
     "output_type": "stream",
     "text": [
      "enter the age : 23\n",
      "enter the age : 63\n",
      "enter the age : 24\n",
      "age2 is oldest\n"
     ]
    }
   ],
   "source": [
    "age1 = int(input('enter the age : '))\n",
    "age2 = int(input('enter the age : '))\n",
    "age3 = int(input('enter the age : '))\n",
    "\n",
    "if age1>age2 and age1>age3 :\n",
    "    print('age1 is oldest')\n",
    "    \n",
    "elif age2>age3 and age2>age1 :\n",
    "     print('age2 is oldest')\n",
    "    \n",
    "else:\n",
    "    print('age3 is oldest')"
   ]
  },
  {
   "cell_type": "code",
   "execution_count": 4,
   "id": "0a8d5ac1",
   "metadata": {},
   "outputs": [
    {
     "name": "stdout",
     "output_type": "stream",
     "text": [
      "enter the age : 4\n",
      "enter the age : 35\n",
      "enter the age : 65\n",
      "age3 is oldest\n",
      "age1 is youngest \n"
     ]
    }
   ],
   "source": [
    "age1 = int(input('enter the age : '))\n",
    "age2 = int(input('enter the age : '))\n",
    "age3 = int(input('enter the age : '))\n",
    "\n",
    "if age1>age2 and age1>age3 :\n",
    "    print('age1 is oldest')\n",
    "    \n",
    "elif age2>age1 and age2>age3:\n",
    "    print('age2 is oldest')\n",
    "    \n",
    "else:\n",
    "    print('age3 is oldest')\n",
    "    \n",
    "if age1<age2 and age1<age3:\n",
    "    print('age1 is youngest ')\n",
    "    \n",
    "elif age2<age1 and age2<age3:\n",
    "    print('age2 is youngest')\n",
    "    \n",
    "else :\n",
    "    print('age3 is youngest')"
   ]
  }
 ],
 "metadata": {
  "kernelspec": {
   "display_name": "Python 3 (ipykernel)",
   "language": "python",
   "name": "python3"
  },
  "language_info": {
   "codemirror_mode": {
    "name": "ipython",
    "version": 3
   },
   "file_extension": ".py",
   "mimetype": "text/x-python",
   "name": "python",
   "nbconvert_exporter": "python",
   "pygments_lexer": "ipython3",
   "version": "3.9.7"
  }
 },
 "nbformat": 4,
 "nbformat_minor": 5
}
