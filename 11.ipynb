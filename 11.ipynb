{
 "cells": [
  {
   "cell_type": "code",
   "execution_count": null,
   "id": "d6525d74",
   "metadata": {},
   "outputs": [],
   "source": [
    "Q11.Write a program to find the simple interest when the value of principle,rate of interest and time period is given.`"
   ]
  },
  {
   "cell_type": "code",
   "execution_count": 1,
   "id": "55d3a98e",
   "metadata": {},
   "outputs": [
    {
     "name": "stdout",
     "output_type": "stream",
     "text": [
      "the principal is  8\n",
      "the time period is  6\n",
      "the rate of intrest is  8\n",
      "The simple intrest is  3.84\n"
     ]
    },
    {
     "data": {
      "text/plain": [
       "3.84"
      ]
     },
     "execution_count": 1,
     "metadata": {},
     "output_type": "execute_result"
    }
   ],
   "source": [
    "def simpleintrest(p,t,r):\n",
    "    print('the principal is ', p)\n",
    "    print('the time period is ',t)\n",
    "    print('the rate of intrest is ',r)\n",
    "    \n",
    "    si = (p * t * r)/100\n",
    "    \n",
    "    print('The simple intrest is ',si)\n",
    "    return si\n",
    "\n",
    "simpleintrest(8,6,8)"
   ]
  },
  {
   "cell_type": "code",
   "execution_count": 3,
   "id": "17282a41",
   "metadata": {},
   "outputs": [
    {
     "name": "stdout",
     "output_type": "stream",
     "text": [
      "the principal is  1\n",
      "the time period is  2\n",
      "the rate of intrest is  3\n",
      "The simple intrest is  0.06\n"
     ]
    },
    {
     "data": {
      "text/plain": [
       "0.06"
      ]
     },
     "execution_count": 3,
     "metadata": {},
     "output_type": "execute_result"
    }
   ],
   "source": [
    "def simpleintresst():\n",
    "    print(' ',p)\n",
    "    print(\" \",t)\n",
    "    print(\" \",r)\n",
    "    \n",
    "    si  = (p*t*r)/100\n",
    "    \n",
    "    print('',si)\n",
    "    return si \n",
    "\n",
    "simpleintrest(1,2,3)"
   ]
  },
  {
   "cell_type": "code",
   "execution_count": null,
   "id": "1ecb5a8f",
   "metadata": {},
   "outputs": [],
   "source": []
  }
 ],
 "metadata": {
  "kernelspec": {
   "display_name": "Python 3 (ipykernel)",
   "language": "python",
   "name": "python3"
  },
  "language_info": {
   "codemirror_mode": {
    "name": "ipython",
    "version": 3
   },
   "file_extension": ".py",
   "mimetype": "text/x-python",
   "name": "python",
   "nbconvert_exporter": "python",
   "pygments_lexer": "ipython3",
   "version": "3.9.7"
  }
 },
 "nbformat": 4,
 "nbformat_minor": 5
}
