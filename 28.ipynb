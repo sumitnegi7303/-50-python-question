{
 "cells": [
  {
   "cell_type": "code",
   "execution_count": null,
   "id": "b17bbb04",
   "metadata": {},
   "outputs": [],
   "source": [
    "36.\tWrite a program to find the compound interest "
   ]
  },
  {
   "cell_type": "code",
   "execution_count": 3,
   "id": "3025f8ce",
   "metadata": {},
   "outputs": [
    {
     "name": "stdout",
     "output_type": "stream",
     "text": [
      "compound interest is 102.5\n"
     ]
    }
   ],
   "source": [
    "def compound_interest(principal,rate,time):\n",
    "    A = principal * (pow((1 + rate / 100),time))\n",
    "    CI = A -principal\n",
    "    print(\"compound interest is\",CI)\n",
    "    \n",
    "compound_interest(1000,5,2)"
   ]
  },
  {
   "cell_type": "code",
   "execution_count": 4,
   "id": "75c0e6d5",
   "metadata": {},
   "outputs": [
    {
     "name": "stdout",
     "output_type": "stream",
     "text": [
      "Compound interest is 1025.0\n"
     ]
    }
   ],
   "source": [
    "def compound_interest(principal, rate, time):\n",
    "  \n",
    "    # Calculates compound interest \n",
    "    A = principal * (pow((1 + rate / 100), time))\n",
    "    CI= A - principal\n",
    "    print(\"Compound interest is\", CI)\n",
    "  \n",
    "  \n",
    "compound_interest(10000, 5, 2)"
   ]
  },
  {
   "cell_type": "code",
   "execution_count": 5,
   "id": "a2ca2da4",
   "metadata": {},
   "outputs": [
    {
     "ename": "TypeError",
     "evalue": "compound_interest() takes 0 positional arguments but 3 were given",
     "output_type": "error",
     "traceback": [
      "\u001b[1;31m---------------------------------------------------------------------------\u001b[0m",
      "\u001b[1;31mTypeError\u001b[0m                                 Traceback (most recent call last)",
      "\u001b[1;32mC:\\Users\\GOURAV~1\\AppData\\Local\\Temp/ipykernel_7236/3885022096.py\u001b[0m in \u001b[0;36m<module>\u001b[1;34m\u001b[0m\n\u001b[0;32m      4\u001b[0m     \u001b[0mprint\u001b[0m\u001b[1;33m(\u001b[0m\u001b[1;34m'compound interest is'\u001b[0m\u001b[1;33m,\u001b[0m\u001b[0mCI\u001b[0m\u001b[1;33m)\u001b[0m\u001b[1;33m\u001b[0m\u001b[1;33m\u001b[0m\u001b[0m\n\u001b[0;32m      5\u001b[0m \u001b[1;33m\u001b[0m\u001b[0m\n\u001b[1;32m----> 6\u001b[1;33m \u001b[0mcompound_interest\u001b[0m\u001b[1;33m(\u001b[0m\u001b[1;36m1000\u001b[0m\u001b[1;33m,\u001b[0m\u001b[1;36m5\u001b[0m\u001b[1;33m,\u001b[0m\u001b[1;36m2\u001b[0m\u001b[1;33m)\u001b[0m\u001b[1;33m\u001b[0m\u001b[1;33m\u001b[0m\u001b[0m\n\u001b[0m",
      "\u001b[1;31mTypeError\u001b[0m: compound_interest() takes 0 positional arguments but 3 were given"
     ]
    }
   ],
   "source": [
    "def compound_interest():\n",
    "    A = principal*(pow(1+rate/100),time)\n",
    "    CI = A-principal\n",
    "    print('compound interest is',CI)\n",
    "    \n",
    "compound_interest(1000,5,2)"
   ]
  }
 ],
 "metadata": {
  "kernelspec": {
   "display_name": "Python 3 (ipykernel)",
   "language": "python",
   "name": "python3"
  },
  "language_info": {
   "codemirror_mode": {
    "name": "ipython",
    "version": 3
   },
   "file_extension": ".py",
   "mimetype": "text/x-python",
   "name": "python",
   "nbconvert_exporter": "python",
   "pygments_lexer": "ipython3",
   "version": "3.9.7"
  }
 },
 "nbformat": 4,
 "nbformat_minor": 5
}
