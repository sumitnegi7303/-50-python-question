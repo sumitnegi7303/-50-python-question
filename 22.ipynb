{
 "cells": [
  {
   "cell_type": "code",
   "execution_count": null,
   "id": "3c55ba21",
   "metadata": {},
   "outputs": [],
   "source": [
    "28.\tWrite a program to print whether a given number is prime number or not"
   ]
  },
  {
   "cell_type": "code",
   "execution_count": 2,
   "id": "93967c69",
   "metadata": {},
   "outputs": [
    {
     "name": "stdout",
     "output_type": "stream",
     "text": [
      "20 is composite \n",
      "21 is composite \n",
      "22 is composite \n",
      "23 is prime \n",
      "24 is composite \n",
      "25 is composite \n",
      "26 is composite \n",
      "27 is composite \n",
      "28 is composite \n",
      "29 is prime \n",
      "30 is composite \n"
     ]
    }
   ],
   "source": [
    "for i in range(20,31):\n",
    "    c=0\n",
    "    for j in range(1,i+1):\n",
    "        if i%j==0:\n",
    "            c = c+1\n",
    "    if c==2:\n",
    "        print(i, \"is prime \" )\n",
    "    else:\n",
    "        print(i, \"is composite \" )"
   ]
  }
 ],
 "metadata": {
  "kernelspec": {
   "display_name": "Python 3 (ipykernel)",
   "language": "python",
   "name": "python3"
  },
  "language_info": {
   "codemirror_mode": {
    "name": "ipython",
    "version": 3
   },
   "file_extension": ".py",
   "mimetype": "text/x-python",
   "name": "python",
   "nbconvert_exporter": "python",
   "pygments_lexer": "ipython3",
   "version": "3.9.7"
  }
 },
 "nbformat": 4,
 "nbformat_minor": 5
}
