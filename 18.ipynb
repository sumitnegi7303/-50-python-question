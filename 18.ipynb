{
 "cells": [
  {
   "cell_type": "code",
   "execution_count": null,
   "id": "a554f8a6",
   "metadata": {},
   "outputs": [],
   "source": [
    "Q24.Write a program to find the sum of first n numbers, where n will be provided by the user. Eg if the user\n",
    "provides n=10 the output should be 55."
   ]
  },
  {
   "cell_type": "code",
   "execution_count": 1,
   "id": "402b77de",
   "metadata": {},
   "outputs": [
    {
     "name": "stdout",
     "output_type": "stream",
     "text": [
      "enter the number :10\n",
      "55\n"
     ]
    }
   ],
   "source": [
    "n = int(input('enter the number :'))+1\n",
    "m=0\n",
    "for i in range(1,n):\n",
    "    m=m+i\n",
    "print(m)\n",
    "    "
   ]
  }
 ],
 "metadata": {
  "kernelspec": {
   "display_name": "Python 3 (ipykernel)",
   "language": "python",
   "name": "python3"
  },
  "language_info": {
   "codemirror_mode": {
    "name": "ipython",
    "version": 3
   },
   "file_extension": ".py",
   "mimetype": "text/x-python",
   "name": "python",
   "nbconvert_exporter": "python",
   "pygments_lexer": "ipython3",
   "version": "3.9.7"
  }
 },
 "nbformat": 4,
 "nbformat_minor": 5
}
