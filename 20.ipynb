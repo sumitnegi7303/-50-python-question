{
 "cells": [
  {
   "cell_type": "code",
   "execution_count": null,
   "id": "df192693",
   "metadata": {},
   "outputs": [],
   "source": [
    "26.\tWrite a program that can find the factorial of a given number provided by the user."
   ]
  },
  {
   "cell_type": "code",
   "execution_count": 2,
   "id": "bd9070d9",
   "metadata": {},
   "outputs": [
    {
     "name": "stdout",
     "output_type": "stream",
     "text": [
      "the factorial of 7 is 5040\n"
     ]
    }
   ],
   "source": [
    "num = 7\n",
    "\n",
    "factorial = 1\n",
    "\n",
    "if num < 0:\n",
    "    print('sorry, factorial does not exist')\n",
    "elif num ==0:\n",
    "    print('the factorial of 0 is 1')\n",
    "    \n",
    "else:\n",
    "    for i in range(1,num + 1):\n",
    "        factorial  = factorial*i\n",
    "    print('the factorial of',num ,\"is\",factorial)"
   ]
  },
  {
   "cell_type": "code",
   "execution_count": 4,
   "id": "a6db11e2",
   "metadata": {},
   "outputs": [
    {
     "name": "stdout",
     "output_type": "stream",
     "text": [
      "enter the number :7\n",
      "the factorial of 7 is 1\n",
      "the factorial of 7 is 2\n",
      "the factorial of 7 is 6\n",
      "the factorial of 7 is 24\n",
      "the factorial of 7 is 120\n",
      "the factorial of 7 is 720\n",
      "the factorial of 7 is 5040\n"
     ]
    }
   ],
   "source": [
    "n = int(input('enter the number :'))\n",
    "num = 1\n",
    "\n",
    "for i in range(1,n + 1):\n",
    "    num = num*i\n",
    "    print('the factorial of',n,'is',num)"
   ]
  },
  {
   "cell_type": "code",
   "execution_count": 6,
   "id": "acab9d1e",
   "metadata": {},
   "outputs": [
    {
     "name": "stdout",
     "output_type": "stream",
     "text": [
      "the factorial of 7 is 5040\n"
     ]
    }
   ],
   "source": [
    "def factorial(x):\n",
    "    \n",
    "    if x ==1:\n",
    "        return 1\n",
    "    else:\n",
    "        return (x * factorial(x-1))\n",
    "    \n",
    "num = 7\n",
    "\n",
    "result = factorial(num)\n",
    "print('the factorial of',num,'is',result)"
   ]
  }
 ],
 "metadata": {
  "kernelspec": {
   "display_name": "Python 3 (ipykernel)",
   "language": "python",
   "name": "python3"
  },
  "language_info": {
   "codemirror_mode": {
    "name": "ipython",
    "version": 3
   },
   "file_extension": ".py",
   "mimetype": "text/x-python",
   "name": "python",
   "nbconvert_exporter": "python",
   "pygments_lexer": "ipython3",
   "version": "3.9.7"
  }
 },
 "nbformat": 4,
 "nbformat_minor": 5
}
