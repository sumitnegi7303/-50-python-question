{
 "cells": [
  {
   "cell_type": "code",
   "execution_count": null,
   "id": "21795ed3",
   "metadata": {},
   "outputs": [],
   "source": [
    "Q17.Write a program that will take three digits from the user and add the square of each digit."
   ]
  },
  {
   "cell_type": "code",
   "execution_count": 2,
   "id": "3eccaabd",
   "metadata": {},
   "outputs": [
    {
     "name": "stdout",
     "output_type": "stream",
     "text": [
      "10\n",
      "20\n",
      "30\n",
      "1400\n"
     ]
    }
   ],
   "source": [
    "x = int(input())**2\n",
    "y = int(input())**2\n",
    "z = int(input())**2\n",
    "s = x+y+z\n",
    "print(s)"
   ]
  },
  {
   "cell_type": "code",
   "execution_count": null,
   "id": "311568d6",
   "metadata": {},
   "outputs": [],
   "source": []
  }
 ],
 "metadata": {
  "kernelspec": {
   "display_name": "Python 3 (ipykernel)",
   "language": "python",
   "name": "python3"
  },
  "language_info": {
   "codemirror_mode": {
    "name": "ipython",
    "version": 3
   },
   "file_extension": ".py",
   "mimetype": "text/x-python",
   "name": "python",
   "nbconvert_exporter": "python",
   "pygments_lexer": "ipython3",
   "version": "3.9.7"
  }
 },
 "nbformat": 4,
 "nbformat_minor": 5
}
