{
 "cells": [
  {
   "cell_type": "code",
   "execution_count": null,
   "id": "f9b73c9e",
   "metadata": {},
   "outputs": [],
   "source": [
    "43.\tWrite  a program to print the following pattern\n",
    "        *\n",
    "      * * *\n",
    "    * * * * *\n",
    "   * * * * * * *\n",
    "* * * * * * * * *"
   ]
  },
  {
   "cell_type": "code",
   "execution_count": 3,
   "id": "7b59f93f",
   "metadata": {},
   "outputs": [
    {
     "name": "stdout",
     "output_type": "stream",
     "text": [
      "     * \r\n",
      "    * * \r\n",
      "   * * * \r\n",
      "  * * * * \r\n",
      " * * * * * \r\n",
      "* * * * * * \r\n"
     ]
    }
   ],
   "source": [
    "def triangle():\n",
    "    k = n-1\n",
    "    for i in range(0, n):\n",
    "        for j in range(0, k):\n",
    "            print(end=\" \")\n",
    "            \n",
    "        k = k - 1 \n",
    "        for j in range(0, i +1):\n",
    "            \n",
    "            print(\"* \",end=\"\")\n",
    "            \n",
    "        print(\"\\r\")\n",
    "        \n",
    "n = 6\n",
    "triangle()"
   ]
  },
  {
   "cell_type": "code",
   "execution_count": 1,
   "id": "91d838e1",
   "metadata": {},
   "outputs": [
    {
     "name": "stdout",
     "output_type": "stream",
     "text": [
      "       *\n",
      "     * * *\n",
      "    * * * * \n",
      "   * * * * * *\n",
      "  * * * * * * * \n",
      "* * * * * * * * *\n"
     ]
    }
   ],
   "source": [
    "print(\"       *\")\n",
    "print(\"     * * *\")\n",
    "print(\"    * * * * \")\n",
    "print(\"   * * * * * *\")\n",
    "print(\"  * * * * * * * \")\n",
    "print(\"* * * * * * * * *\")"
   ]
  },
  {
   "cell_type": "code",
   "execution_count": null,
   "id": "65786000",
   "metadata": {},
   "outputs": [],
   "source": []
  }
 ],
 "metadata": {
  "kernelspec": {
   "display_name": "Python 3 (ipykernel)",
   "language": "python",
   "name": "python3"
  },
  "language_info": {
   "codemirror_mode": {
    "name": "ipython",
    "version": 3
   },
   "file_extension": ".py",
   "mimetype": "text/x-python",
   "name": "python",
   "nbconvert_exporter": "python",
   "pygments_lexer": "ipython3",
   "version": "3.9.7"
  }
 },
 "nbformat": 4,
 "nbformat_minor": 5
}
