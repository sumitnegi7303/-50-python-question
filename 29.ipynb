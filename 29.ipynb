{
 "cells": [
  {
   "cell_type": "code",
   "execution_count": null,
   "id": "a81047b7",
   "metadata": {},
   "outputs": [],
   "source": [
    "37.\tWrite a Python program that accepts an integer (n) and computes the value of n+nn+nnn."
   ]
  },
  {
   "cell_type": "code",
   "execution_count": 11,
   "id": "4f3a8627",
   "metadata": {},
   "outputs": [
    {
     "name": "stdout",
     "output_type": "stream",
     "text": [
      "enter the number :5\n",
      "615\n"
     ]
    }
   ],
   "source": [
    "a = int(input(\"enter the number :\"))\n",
    "n = int(\"%s\" % a)\n",
    "nn = int(\"%s%s\" % (a,a))\n",
    "nnn = int(\"%s%s%s\" % (a,a,a))\n",
    "print(n+nn+nnn)"
   ]
  }
 ],
 "metadata": {
  "kernelspec": {
   "display_name": "Python 3 (ipykernel)",
   "language": "python",
   "name": "python3"
  },
  "language_info": {
   "codemirror_mode": {
    "name": "ipython",
    "version": 3
   },
   "file_extension": ".py",
   "mimetype": "text/x-python",
   "name": "python",
   "nbconvert_exporter": "python",
   "pygments_lexer": "ipython3",
   "version": "3.9.7"
  }
 },
 "nbformat": 4,
 "nbformat_minor": 5
}
