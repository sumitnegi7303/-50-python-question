{
 "cells": [
  {
   "cell_type": "markdown",
   "id": "533aef2d",
   "metadata": {},
   "source": [
    "Q2.Write a program that will convert celsius value to fahrenheit"
   ]
  },
  {
   "cell_type": "code",
   "execution_count": 1,
   "id": "f1528f19",
   "metadata": {},
   "outputs": [
    {
     "name": "stdout",
     "output_type": "stream",
     "text": [
      "enter the temperature in celcius :17\n",
      "17.0degree celcius is equal to 62.6degree fahrenheit\n"
     ]
    }
   ],
   "source": [
    "celcius = float(input('enter the temperature in celcius :'))\n",
    "fahrenheit = (celcius*1.8)+32\n",
    "print(str(celcius)+\"degree celcius is equal to \"+str(fahrenheit)+\"degree fahrenheit\")"
   ]
  }
 ],
 "metadata": {
  "kernelspec": {
   "display_name": "Python 3 (ipykernel)",
   "language": "python",
   "name": "python3"
  },
  "language_info": {
   "codemirror_mode": {
    "name": "ipython",
    "version": 3
   },
   "file_extension": ".py",
   "mimetype": "text/x-python",
   "name": "python",
   "nbconvert_exporter": "python",
   "pygments_lexer": "ipython3",
   "version": "3.9.7"
  }
 },
 "nbformat": 4,
 "nbformat_minor": 5
}
