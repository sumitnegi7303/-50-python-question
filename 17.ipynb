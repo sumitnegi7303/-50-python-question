{
 "cells": [
  {
   "cell_type": "code",
   "execution_count": null,
   "id": "3b75252d",
   "metadata": {},
   "outputs": [],
   "source": [
    "Q23.Write a program that will swap numbers"
   ]
  },
  {
   "cell_type": "code",
   "execution_count": 1,
   "id": "8287059b",
   "metadata": {},
   "outputs": [
    {
     "name": "stdout",
     "output_type": "stream",
     "text": [
      "12\n"
     ]
    }
   ],
   "source": [
    "x=10\n",
    "y=12\n",
    "x=y\n",
    "print(x)"
   ]
  }
 ],
 "metadata": {
  "kernelspec": {
   "display_name": "Python 3 (ipykernel)",
   "language": "python",
   "name": "python3"
  },
  "language_info": {
   "codemirror_mode": {
    "name": "ipython",
    "version": 3
   },
   "file_extension": ".py",
   "mimetype": "text/x-python",
   "name": "python",
   "nbconvert_exporter": "python",
   "pygments_lexer": "ipython3",
   "version": "3.9.7"
  }
 },
 "nbformat": 4,
 "nbformat_minor": 5
}
