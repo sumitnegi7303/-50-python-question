{
 "cells": [
  {
   "cell_type": "code",
   "execution_count": null,
   "id": "2db44437",
   "metadata": {},
   "outputs": [],
   "source": [
    "Q10.Write a program that will take user input of cost price and selling price and determines whether its a loss or a profit"
   ]
  },
  {
   "cell_type": "code",
   "execution_count": 6,
   "id": "af176067",
   "metadata": {},
   "outputs": [
    {
     "name": "stdout",
     "output_type": "stream",
     "text": [
      "enter the cost_price :600\n",
      "enter the selling_price :655\n",
      "earned_price 55\n",
      "profit\n"
     ]
    }
   ],
   "source": [
    "cost_price = int(input('enter the cost_price :'))\n",
    "selling_price = int(input('enter the selling_price :'))\n",
    "print('earned_price',selling_price - cost_price)\n",
    "print('profit')"
   ]
  },
  {
   "cell_type": "code",
   "execution_count": null,
   "id": "5c9c3d14",
   "metadata": {},
   "outputs": [],
   "source": []
  }
 ],
 "metadata": {
  "kernelspec": {
   "display_name": "Python 3 (ipykernel)",
   "language": "python",
   "name": "python3"
  },
  "language_info": {
   "codemirror_mode": {
    "name": "ipython",
    "version": 3
   },
   "file_extension": ".py",
   "mimetype": "text/x-python",
   "name": "python",
   "nbconvert_exporter": "python",
   "pygments_lexer": "ipython3",
   "version": "3.9.7"
  }
 },
 "nbformat": 4,
 "nbformat_minor": 5
}
